{
 "cells": [
  {
   "cell_type": "markdown",
   "metadata": {},
   "source": [
    "### Guided Practice: Logit Function and Odds"
   ]
  },
  {
   "cell_type": "code",
   "execution_count": 1,
   "metadata": {
    "collapsed": true
   },
   "outputs": [],
   "source": [
    "def logit_func(odds):\n",
    "    # uses a float (odds) and returns back the log odds (logit)\n",
    "    return None\n",
    "\n",
    "def sigmoid_func(logit):\n",
    "    # uses a float (logit) and returns back the probability\n",
    "    return None\n",
    "\n",
    "odds_set = [\n",
    "    5./1,\n",
    "    20./1,\n",
    "    1.1/1,\n",
    "    1.8/1,\n",
    "    1.6/1\n",
    "]"
   ]
  },
  {
   "cell_type": "code",
   "execution_count": 3,
   "metadata": {
    "collapsed": true
   },
   "outputs": [],
   "source": [
    "import pandas as pd\n",
    "from sklearn.linear_model import LogisticRegression"
   ]
  },
  {
   "cell_type": "code",
   "execution_count": 34,
   "metadata": {
    "collapsed": false
   },
   "outputs": [],
   "source": [
    "lm = LogisticRegression()\n",
    "\n",
    "df = pd.read_csv('../../assets/dataset/collegeadmissions.csv')"
   ]
  },
  {
   "cell_type": "code",
   "execution_count": 35,
   "metadata": {
    "collapsed": false
   },
   "outputs": [
    {
     "data": {
      "text/html": [
       "<div>\n",
       "<table border=\"1\" class=\"dataframe\">\n",
       "  <thead>\n",
       "    <tr style=\"text-align: right;\">\n",
       "      <th></th>\n",
       "      <th>admit</th>\n",
       "      <th>gre</th>\n",
       "      <th>gpa</th>\n",
       "      <th>rank</th>\n",
       "    </tr>\n",
       "  </thead>\n",
       "  <tbody>\n",
       "    <tr>\n",
       "      <th>0</th>\n",
       "      <td>0</td>\n",
       "      <td>380</td>\n",
       "      <td>3.61</td>\n",
       "      <td>3</td>\n",
       "    </tr>\n",
       "    <tr>\n",
       "      <th>1</th>\n",
       "      <td>1</td>\n",
       "      <td>660</td>\n",
       "      <td>3.67</td>\n",
       "      <td>3</td>\n",
       "    </tr>\n",
       "    <tr>\n",
       "      <th>2</th>\n",
       "      <td>1</td>\n",
       "      <td>800</td>\n",
       "      <td>4.00</td>\n",
       "      <td>1</td>\n",
       "    </tr>\n",
       "    <tr>\n",
       "      <th>3</th>\n",
       "      <td>1</td>\n",
       "      <td>640</td>\n",
       "      <td>3.19</td>\n",
       "      <td>4</td>\n",
       "    </tr>\n",
       "    <tr>\n",
       "      <th>4</th>\n",
       "      <td>0</td>\n",
       "      <td>520</td>\n",
       "      <td>2.93</td>\n",
       "      <td>4</td>\n",
       "    </tr>\n",
       "  </tbody>\n",
       "</table>\n",
       "</div>"
      ],
      "text/plain": [
       "   admit  gre   gpa  rank\n",
       "0      0  380  3.61     3\n",
       "1      1  660  3.67     3\n",
       "2      1  800  4.00     1\n",
       "3      1  640  3.19     4\n",
       "4      0  520  2.93     4"
      ]
     },
     "execution_count": 35,
     "metadata": {},
     "output_type": "execute_result"
    }
   ],
   "source": [
    "df.head()"
   ]
  },
  {
   "cell_type": "code",
   "execution_count": 36,
   "metadata": {
    "collapsed": false
   },
   "outputs": [],
   "source": [
    "\n",
    "dummies = pd.get_dummies(df['rank'])\n",
    "df = df.join(dummies)"
   ]
  },
  {
   "cell_type": "code",
   "execution_count": 47,
   "metadata": {
    "collapsed": false
   },
   "outputs": [
    {
     "name": "stdout",
     "output_type": "stream",
     "text": [
      "['gre', 'gpa', 1, 2, 3]\n"
     ]
    }
   ],
   "source": [
    "columns = df.columns.tolist()\n",
    "\n",
    "columnsToKeep =  columns[1:3] + columns[4:7]\n",
    "\n",
    "print columnsToKeep"
   ]
  },
  {
   "cell_type": "code",
   "execution_count": 48,
   "metadata": {
    "collapsed": false
   },
   "outputs": [],
   "source": [
    "from sklearn.cross_validation import train_test_split"
   ]
  },
  {
   "cell_type": "code",
   "execution_count": 76,
   "metadata": {
    "collapsed": false
   },
   "outputs": [],
   "source": [
    "from sklearn.cross_validation import train_test_split\n",
    "X = df[columnsToKeep]\n",
    "y = df.admit\n",
    "\n",
    "X_train, X_test, y_train, y_test = train_test_split(X, y, test_size=0.30, random_state=42)"
   ]
  },
  {
   "cell_type": "code",
   "execution_count": 77,
   "metadata": {
    "collapsed": false
   },
   "outputs": [
    {
     "data": {
      "text/plain": [
       "pandas.core.frame.DataFrame"
      ]
     },
     "execution_count": 77,
     "metadata": {},
     "output_type": "execute_result"
    }
   ],
   "source": [
    "type(X_train)"
   ]
  },
  {
   "cell_type": "code",
   "execution_count": 78,
   "metadata": {
    "collapsed": false
   },
   "outputs": [
    {
     "data": {
      "text/plain": [
       "LogisticRegression(C=1.0, class_weight=None, dual=False, fit_intercept=True,\n",
       "          intercept_scaling=1, max_iter=100, multi_class='ovr', n_jobs=1,\n",
       "          penalty='l2', random_state=None, solver='liblinear', tol=0.0001,\n",
       "          verbose=0, warm_start=False)"
      ]
     },
     "execution_count": 78,
     "metadata": {},
     "output_type": "execute_result"
    }
   ],
   "source": [
    "lm.fit(X_train, y_train)"
   ]
  },
  {
   "cell_type": "code",
   "execution_count": 79,
   "metadata": {
    "collapsed": true
   },
   "outputs": [],
   "source": [
    "import numpy as np"
   ]
  },
  {
   "cell_type": "code",
   "execution_count": 53,
   "metadata": {
    "collapsed": false
   },
   "outputs": [
    {
     "name": "stdout",
     "output_type": "stream",
     "text": [
      "[[  7.68209555e-04   1.56578219e-01   8.50062915e-01   5.16056542e-01\n",
      "   -3.68446891e-01]]\n",
      "[-1.99052301]\n",
      "0.3175\n"
     ]
    }
   ],
   "source": [
    "print lm.coef_\n",
    "print lm.intercept_\n",
    "print df.admit.mean()"
   ]
  },
  {
   "cell_type": "markdown",
   "metadata": {},
   "source": [
    "Below is some code to walk through confusion matrices. It'll be useful for working through the Titanic problem."
   ]
  },
  {
   "cell_type": "code",
   "execution_count": 45,
   "metadata": {
    "collapsed": false
   },
   "outputs": [],
   "source": [
    "%matplotlib inline\n",
    "import matplotlib.pyplot as plt\n",
    "from sklearn.metrics import roc_curve, roc_auc_score"
   ]
  },
  {
   "cell_type": "markdown",
   "metadata": {},
   "source": [
    "Below the ROC curve is based on various thresholds: it shows with a false positive rate (x-axis) ~0, it also expects a true positive rate (y-axis) ~0 (the same, ish, for the top right hand of the figure).\n",
    "\n",
    "The second chart, which does not play with thesholds, shows the one true TPR and FPR point, joined to 0,0 and 1,1.\n",
    "\n",
    "The first chart will be more effective as you compare models and determine where the decision line should exist for the data. The second simplifies the first in case this idea of thresholds is confusing."
   ]
  },
  {
   "cell_type": "code",
   "execution_count": null,
   "metadata": {
    "collapsed": true
   },
   "outputs": [],
   "source": []
  },
  {
   "cell_type": "code",
   "execution_count": 89,
   "metadata": {
    "collapsed": false
   },
   "outputs": [
    {
     "data": {
      "text/plain": [
       "array([ 0.38204407,  0.41325391,  0.24636586,  0.28924028,  0.36120666,\n",
       "        0.19604745,  0.24091967,  0.39440836,  0.25864709,  0.468729  ,\n",
       "        0.41996108,  0.4553272 ,  0.19320964,  0.25143336,  0.37835437,\n",
       "        0.37277756,  0.26925496,  0.39417466,  0.20029244,  0.41460857,\n",
       "        0.24636586,  0.18975541,  0.4109778 ,  0.19423376,  0.18215678,\n",
       "        0.18957489,  0.23065815,  0.22134677,  0.18846481,  0.41363362,\n",
       "        0.40809077,  0.24296583,  0.34451611,  0.16704585,  0.34224347,\n",
       "        0.35519995,  0.45627386,  0.27132029,  0.39627983,  0.2887175 ,\n",
       "        0.37444945,  0.23790823,  0.19739281,  0.51179377,  0.3393853 ,\n",
       "        0.37518327,  0.42163214,  0.26915878,  0.25198628,  0.41998486,\n",
       "        0.38056653,  0.36342251,  0.44409063,  0.22426146,  0.38878948,\n",
       "        0.17655398,  0.23128389,  0.21556602,  0.27213364,  0.40953351,\n",
       "        0.23177145,  0.40795034,  0.20705347,  0.44100042,  0.20514802,\n",
       "        0.2225974 ,  0.19389702,  0.39883459,  0.2008731 ,  0.40068973,\n",
       "        0.18035593,  0.40915493,  0.39630319,  0.187643  ,  0.380728  ,\n",
       "        0.39433823,  0.24921121,  0.43762425,  0.33967058,  0.2118169 ,\n",
       "        0.26906248,  0.43223688,  0.50589959,  0.27583213,  0.35744442,\n",
       "        0.2255238 ,  0.21983251,  0.21614577,  0.16897461,  0.41653227,\n",
       "        0.16544525,  0.47919577,  0.51335856,  0.19301142,  0.21571501,\n",
       "        0.26232305,  0.4659275 ,  0.40969913,  0.21737523,  0.23513381,\n",
       "        0.34522364,  0.2717267 ,  0.31316544,  0.2983359 ,  0.20235376,\n",
       "        0.33516371,  0.46777873,  0.23238188,  0.470874  ,  0.36541707,\n",
       "        0.36680243,  0.37688239,  0.40787801,  0.42516653,  0.34515727,\n",
       "        0.37748009,  0.49053681,  0.26672094,  0.26831257,  0.17215885])"
      ]
     },
     "execution_count": 89,
     "metadata": {},
     "output_type": "execute_result"
    }
   ],
   "source": [
    "np.array(probas[:,1])"
   ]
  },
  {
   "cell_type": "code",
   "execution_count": 80,
   "metadata": {
    "collapsed": false
   },
   "outputs": [
    {
     "data": {
      "text/plain": [
       "[<matplotlib.lines.Line2D at 0x1189797d0>]"
      ]
     },
     "execution_count": 80,
     "metadata": {},
     "output_type": "execute_result"
    },
    {
     "data": {
      "image/png": "[encoded data removed]",
      "text/plain": [
       "<matplotlib.figure.Figure at 0x1187521d0>"
      ]
     },
     "metadata": {},
     "output_type": "display_data"
    }
   ],
   "source": [
    "actuals = lm.predict(X_test) \n",
    "\n",
    "#print actuals\n",
    "\n",
    "probas = lm.predict_proba(X_test)\n",
    "\n",
    "fpr = roc_curve(y_test, probas[:,1])[0]\n",
    "tpr = roc_curve(y_test, probas[:,1])[1]\n",
    "\n",
    "\n",
    "\n",
    "\n",
    "plt.plot(fpr, tpr)"
   ]
  },
  {
   "cell_type": "code",
   "execution_count": 96,
   "metadata": {
    "collapsed": false
   },
   "outputs": [
    {
     "name": "stdout",
     "output_type": "stream",
     "text": [
      "predicted_class_0   1\n",
      "actual               \n",
      "0                  81\n",
      "1                  39\n",
      "predicted_class_0.05   1\n",
      "actual                  \n",
      "0                     81\n",
      "1                     39\n",
      "predicted_class_0.1   1\n",
      "actual                 \n",
      "0                    81\n",
      "1                    39\n",
      "predicted_class_0.15   1\n",
      "actual                  \n",
      "0                     81\n",
      "1                     39\n",
      "predicted_class_0.2   0   1\n",
      "actual                     \n",
      "0                    12  69\n",
      "1                     5  34\n",
      "predicted_class_0.25   0   1\n",
      "actual                      \n",
      "0                     31  50\n",
      "1                     12  27\n",
      "predicted_class_0.3   0   1\n",
      "actual                     \n",
      "0                    44  37\n",
      "1                    15  24\n",
      "predicted_class_0.35   0   1\n",
      "actual                      \n",
      "0                     52  29\n",
      "1                     15  24\n",
      "predicted_class_0.4   0   1\n",
      "actual                     \n",
      "0                    66  15\n",
      "1                    23  16\n",
      "predicted_class_0.45   0   1\n",
      "actual                      \n",
      "0                     80   1\n",
      "1                     29  10\n",
      "predicted_class_0.5   0  1\n",
      "actual                    \n",
      "0                    81  0\n",
      "1                    36  3\n",
      "predicted_class_0.55   0\n",
      "actual                  \n",
      "0                     81\n",
      "1                     39\n",
      "predicted_class_0.6   0\n",
      "actual                 \n",
      "0                    81\n",
      "1                    39\n",
      "predicted_class_0.65   0\n",
      "actual                  \n",
      "0                     81\n",
      "1                     39\n",
      "predicted_class_0.7   0\n",
      "actual                 \n",
      "0                    81\n",
      "1                    39\n",
      "predicted_class_0.75   0\n",
      "actual                  \n",
      "0                     81\n",
      "1                     39\n",
      "predicted_class_0.8   0\n",
      "actual                 \n",
      "0                    81\n",
      "1                    39\n",
      "predicted_class_0.85   0\n",
      "actual                  \n",
      "0                     81\n",
      "1                     39\n",
      "predicted_class_0.9   0\n",
      "actual                 \n",
      "0                    81\n",
      "1                    39\n",
      "predicted_class_0.95   0\n",
      "actual                  \n",
      "0                     81\n",
      "1                     39\n"
     ]
    }
   ],
   "source": [
    "predictionDf = pd.DataFrame({\"actual\" : y_test, \"predicted\" : np.array(probas[:,1])}) \n",
    "predictionDf\n",
    "\n",
    "threshold = 0\n",
    "while threshold <= 1:\n",
    "    columnName = \"predicted_class_{}\".format(threshold)\n",
    "    predictionDf[columnName] = predictionDf.predicted.apply(\n",
    "        lambda prob: 1 if prob >= threshold else 0)\n",
    "    print pd.crosstab(predictionDf.actual,predictionDf[columnName])\n",
    "    threshold += 0.05"
   ]
  },
  {
   "cell_type": "code",
   "execution_count": 75,
   "metadata": {
    "collapsed": false
   },
   "outputs": [
    {
     "data": {
      "text/plain": [
       "209                                                               0\n",
       "280                                                               0\n",
       "33                                                                1\n",
       "210                                                               0\n",
       "93                                                                0\n",
       "84                                                                1\n",
       "329                                                               0\n",
       "94                                                                1\n",
       "266                                                               0\n",
       "126                                                               1\n",
       "9                                                                 0\n",
       "361                                                               1\n",
       "56                                                                0\n",
       "72                                                                0\n",
       "132                                                               0\n",
       "42                                                                1\n",
       "278                                                               1\n",
       "376                                                               0\n",
       "231                                                               0\n",
       "385                                                               0\n",
       "77                                                                1\n",
       "15                                                                0\n",
       "391                                                               1\n",
       "271                                                               0\n",
       "0                                                                 0\n",
       "396                                                               0\n",
       "114                                                               0\n",
       "225                                                               1\n",
       "262                                                               1\n",
       "104                                                               1\n",
       "                                        ...                        \n",
       "335                                                               1\n",
       "118                                                               1\n",
       "220                                                               0\n",
       "180                                                               0\n",
       "314                                                               0\n",
       "373                                                               1\n",
       "380                                                               0\n",
       "239                                                               0\n",
       "75                                                                0\n",
       "247                                                               0\n",
       "110                                                               0\n",
       "16                                                                0\n",
       "66                                                                0\n",
       "153                                                               0\n",
       "7                                                                 0\n",
       "19                                                                1\n",
       "137                                                               0\n",
       "355                                                               1\n",
       "349                                                               0\n",
       "131                                                               0\n",
       "387                                                               0\n",
       "292                                                               0\n",
       "386                                                               1\n",
       "297                                                               0\n",
       "60                                                                1\n",
       "79                                                                1\n",
       "285                                                               0\n",
       "305                                                               0\n",
       "281                                                               0\n",
       "predicted_prob    [[0.617955926111, 0.382044073889], [0.58674609...\n",
       "Name: admit, dtype: object"
      ]
     },
     "execution_count": 75,
     "metadata": {},
     "output_type": "execute_result"
    }
   ],
   "source": [
    "y_test"
   ]
  },
  {
   "cell_type": "code",
   "execution_count": 72,
   "metadata": {
    "collapsed": false
   },
   "outputs": [
    {
     "data": {
      "text/plain": [
       "[<matplotlib.lines.Line2D at 0x118795050>]"
      ]
     },
     "execution_count": 72,
     "metadata": {},
     "output_type": "execute_result"
    },
    {
     "data": {
      "image/png": "[encoded data removed]",
      "text/plain": [
       "<matplotlib.figure.Figure at 0x1178d1d90>"
      ]
     },
     "metadata": {},
     "output_type": "display_data"
    }
   ],
   "source": [
    "plt.plot(roc_curve(y_test, actuals)[0], roc_curve(y_test, actuals)[1])"
   ]
  },
  {
   "cell_type": "markdown",
   "metadata": {},
   "source": [
    "Finally, you can use the `roc_auc_score` function to calculate the area under these curves (AUC)."
   ]
  },
  {
   "cell_type": "code",
   "execution_count": 60,
   "metadata": {
    "collapsed": false
   },
   "outputs": [
    {
     "data": {
      "text/plain": [
       "0.53846153846153844"
      ]
     },
     "execution_count": 60,
     "metadata": {},
     "output_type": "execute_result"
    }
   ],
   "source": [
    "roc_auc_score(y_test, lm.predict(X_test))"
   ]
  },
  {
   "cell_type": "markdown",
   "metadata": {},
   "source": [
    "### Titanic Problem"
   ]
  },
  {
   "cell_type": "markdown",
   "metadata": {},
   "source": [
    "** Goals **\n",
    "\n",
    "1. Spend a few minutes determining which data would be most important to use in the prediction problem. You may need to create new features based on the data available. Consider using a feature selection aide in sklearn. But a worst case scenario; identify one or two strong features that would be useful to include in the model.\n",
    "2. Spend 1-2 minutes considering which _metric_ makes the most sense to optimize. Accuracy? FPR or TPR? AUC? Given the business problem (understanding survival rate aboard the Titanic), why should you use this metric?\n",
    "3. Build a tuned Logistic model. Be prepared to explain your design (including regularization), metric, and feature set in predicting survival using the tools necessary (such as a fit chart)."
   ]
  },
  {
   "cell_type": "code",
   "execution_count": null,
   "metadata": {
    "collapsed": true
   },
   "outputs": [],
   "source": []
  }
 ],
 "metadata": {
  "anaconda-cloud": {},
  "kernelspec": {
   "display_name": "Python [default]",
   "language": "python",
   "name": "python2"
  },
  "language_info": {
   "codemirror_mode": {
    "name": "ipython",
    "version": 2
   },
   "file_extension": ".py",
   "mimetype": "text/x-python",
   "name": "python",
   "nbconvert_exporter": "python",
   "pygments_lexer": "ipython2",
   "version": "2.7.12"
  }
 },
 "nbformat": 4,
 "nbformat_minor": 0
}
